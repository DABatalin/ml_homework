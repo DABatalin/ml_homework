{
  "cells": [
    {
      "cell_type": "code",
      "execution_count": 449,
      "metadata": {
        "id": "y3DiadTG-ru-"
      },
      "outputs": [],
      "source": [
        "import pandas as pd\n",
        "import numpy as np\n",
        "from matplotlib import pyplot as plt\n",
        "import seaborn as sns\n",
        "# import plotly.express as px"
      ]
    },
    {
      "cell_type": "markdown",
      "metadata": {
        "id": "-QpBS-Nd-fAO"
      },
      "source": [
        "# Домашняя работа: деревья решений"
      ]
    },
    {
      "attachments": {},
      "cell_type": "markdown",
      "metadata": {
        "id": "1ZVCYFgU-5Tw"
      },
      "source": [
        "В этой домашней работе вам предстоит научиться предсказывать цены товаров из маркетплейса Azamon.\n",
        "\n",
        "Требования к домашней работе:\n",
        "- Во всех графиках должны быть подписи через title, legend, etc.\n",
        "- Во время обучения моделей проверяйте, что у вас не текут данные. Обычно это позитивно влияет на качество модели на тесте, но негативно влияет на оценку 🌚\n",
        "- Если вы сдаете работу в Google Colaboratory, убедитесь, что ваша тетрадка доступна по ссылке.\n",
        "- Использование мемов допускается, но необходимо соблюдать меру. Несодержательная работа, состоящая только из мемов, получает 0 баллов."
      ]
    },
    {
      "cell_type": "markdown",
      "metadata": {
        "id": "JyTAlXb8CbXk"
      },
      "source": [
        "# Загрузка и подготовка данных"
      ]
    },
    {
      "cell_type": "code",
      "execution_count": 450,
      "metadata": {},
      "outputs": [],
      "source": [
        "df = pd.read_csv('amazon_co-ecommerce_sample.csv').drop(columns=[\n",
        "    'product_name',\n",
        "    'index',\n",
        "    'uniq_id',\n",
        "    'customers_who_bought_this_item_also_bought',\n",
        "    'items_customers_buy_after_viewing_this_item',\n",
        "    'sellers',\n",
        "    'description', # text\n",
        "    'product_information', # text\n",
        "    'product_description', # text\n",
        "    'customer_questions_and_answers', # text\n",
        "    'customer_reviews', # text\n",
        "])"
      ]
    },
    {
      "cell_type": "code",
      "execution_count": 451,
      "metadata": {},
      "outputs": [
        {
          "data": {
            "text/plain": [
              "Index(['manufacturer', 'price', 'number_available_in_stock',\n",
              "       'number_of_reviews', 'number_of_answered_questions',\n",
              "       'average_review_rating', 'amazon_category_and_sub_category'],\n",
              "      dtype='object')"
            ]
          },
          "execution_count": 451,
          "metadata": {},
          "output_type": "execute_result"
        }
      ],
      "source": [
        "df.columns"
      ]
    },
    {
      "cell_type": "code",
      "execution_count": 452,
      "metadata": {},
      "outputs": [
        {
          "data": {
            "text/plain": [
              "0        5 new\n",
              "1          NaN\n",
              "2        2 new\n",
              "3          NaN\n",
              "4          NaN\n",
              "         ...  \n",
              "9995     5 new\n",
              "9996       NaN\n",
              "9997     3 new\n",
              "9998     3 new\n",
              "9999    31 new\n",
              "Name: number_available_in_stock, Length: 10000, dtype: object"
            ]
          },
          "execution_count": 452,
          "metadata": {},
          "output_type": "execute_result"
        }
      ],
      "source": [
        "df[\"number_available_in_stock\"] # странно..."
      ]
    },
    {
      "cell_type": "code",
      "execution_count": 453,
      "metadata": {},
      "outputs": [
        {
          "data": {
            "text/plain": [
              "<bound method NDFrame.head of                  manufacturer   price number_available_in_stock  \\\n",
              "0                      Hornby   £3.42                     5 new   \n",
              "1                   FunkyBuys  £16.99                       NaN   \n",
              "2                         ccf   £9.99                     2 new   \n",
              "3                      Hornby  £39.99                       NaN   \n",
              "4                      Hornby  £32.19                       NaN   \n",
              "...                       ...     ...                       ...   \n",
              "9995                   Mattel  £22.95                     5 new   \n",
              "9996                Star Wars  £39.99                       NaN   \n",
              "9997  Olde Scotland Yard Ltd.  £43.99                     3 new   \n",
              "9998                DC Comics  £49.81                     3 new   \n",
              "9999                   Bandai  £21.20                    31 new   \n",
              "\n",
              "     number_of_reviews  number_of_answered_questions average_review_rating  \\\n",
              "0                   15                           1.0    4.9 out of 5 stars   \n",
              "1                    2                           1.0    4.5 out of 5 stars   \n",
              "2                   17                           2.0    3.9 out of 5 stars   \n",
              "3                    1                           2.0    5.0 out of 5 stars   \n",
              "4                    3                           2.0    4.7 out of 5 stars   \n",
              "...                ...                           ...                   ...   \n",
              "9995                 3                           3.0    5.0 out of 5 stars   \n",
              "9996                 1                           3.0    4.0 out of 5 stars   \n",
              "9997                 1                           3.0    5.0 out of 5 stars   \n",
              "9998                 1                           3.0    5.0 out of 5 stars   \n",
              "9999                11                           3.0    4.5 out of 5 stars   \n",
              "\n",
              "                       amazon_category_and_sub_category  \n",
              "0     Hobbies > Model Trains & Railway Sets > Rail V...  \n",
              "1     Hobbies > Model Trains & Railway Sets > Rail V...  \n",
              "2     Hobbies > Model Trains & Railway Sets > Rail V...  \n",
              "3     Hobbies > Model Trains & Railway Sets > Rail V...  \n",
              "4     Hobbies > Model Trains & Railway Sets > Rail V...  \n",
              "...                                                 ...  \n",
              "9995  Hobbies > Collectible Figures & Memorabilia > ...  \n",
              "9996             Characters & Brands > Star Wars > Toys  \n",
              "9997  Novelty & Special Use > Novelty > Accessories ...  \n",
              "9998  Hobbies > Collectible Figures & Memorabilia > ...  \n",
              "9999             Characters & Brands > Star Wars > Toys  \n",
              "\n",
              "[10000 rows x 7 columns]>"
            ]
          },
          "execution_count": 453,
          "metadata": {},
          "output_type": "execute_result"
        }
      ],
      "source": [
        "df.head"
      ]
    },
    {
      "cell_type": "markdown",
      "metadata": {
        "id": "O59k78A8C_yP"
      },
      "source": [
        "## Очистка данных (1 балл)\n",
        "\n",
        "Посмотрите на признаки. Есть ли в них пропуски? Какое соотношение между NaN'ами и общим количеством данных? Есть ли смысл выкидывать какие-либо данные из этого датасета?"
      ]
    },
    {
      "attachments": {},
      "cell_type": "markdown",
      "metadata": {},
      "source": [
        "Выведем тепловую карту для визуализации пропущенных значений. Желтый - значение пропущено, синий - нет."
      ]
    },
    {
      "cell_type": "code",
      "execution_count": 454,
      "metadata": {},
      "outputs": [
        {
          "data": {
            "text/plain": [
              "<Axes: >"
            ]
          },
          "execution_count": 454,
          "metadata": {},
          "output_type": "execute_result"
        },
        {
          "data": {
            "image/png": "[encoded data removed]",
            "text/plain": [
              "<Figure size 640x480 with 2 Axes>"
            ]
          },
          "metadata": {},
          "output_type": "display_data"
        }
      ],
      "source": [
        "cols = df.columns\n",
        "colours = ['#000099', '#ffff00'] \n",
        "sns.heatmap(df[cols].isnull(), cmap=sns.color_palette(colours))"
      ]
    },
    {
      "attachments": {},
      "cell_type": "markdown",
      "metadata": {},
      "source": [
        "Посмотрим на процентные соотношения пропущенных данных и непропущенных"
      ]
    },
    {
      "cell_type": "code",
      "execution_count": 455,
      "metadata": {},
      "outputs": [
        {
          "data": {
            "text/plain": [
              "manufacturer                           7\n",
              "price                               1435\n",
              "number_available_in_stock           2500\n",
              "number_of_reviews                     18\n",
              "number_of_answered_questions         765\n",
              "average_review_rating                 18\n",
              "amazon_category_and_sub_category     690\n",
              "dtype: int64"
            ]
          },
          "execution_count": 455,
          "metadata": {},
          "output_type": "execute_result"
        }
      ],
      "source": [
        "df.isnull().sum()"
      ]
    },
    {
      "cell_type": "code",
      "execution_count": 456,
      "metadata": {},
      "outputs": [
        {
          "name": "stdout",
          "output_type": "stream",
          "text": [
            "manufacturer - 0%\n",
            "price - 14%\n",
            "number_available_in_stock - 25%\n",
            "number_of_reviews - 0%\n",
            "number_of_answered_questions - 8%\n",
            "average_review_rating - 0%\n",
            "amazon_category_and_sub_category - 7%\n"
          ]
        }
      ],
      "source": [
        "for col in df.columns:\n",
        "    pct_missing = np.mean(df[col].isnull())\n",
        "    print('{} - {}%'.format(col, round(pct_missing*100)))"
      ]
    },
    {
      "attachments": {},
      "cell_type": "markdown",
      "metadata": {},
      "source": [
        "в столбце number_available_in_stock содержится 2500 пропущенных значений, что добавляет смысла к удалению этого столбца"
      ]
    },
    {
      "cell_type": "code",
      "execution_count": 457,
      "metadata": {},
      "outputs": [],
      "source": [
        "df = df.drop(columns=['number_available_in_stock'])"
      ]
    },
    {
      "cell_type": "markdown",
      "metadata": {
        "id": "eH688KdZDdKY"
      },
      "source": [
        "## Подготовка данных (3 балла)\n",
        "\n",
        "Обработайте признаки. Выполните кодирование категориальных признаков, заполните пропуски в числовых признаках. Обратите внимание, что в датасете есть признак, который разбивается на несколько подпризнаков. Что это за признак? Закодируйте и его.\n",
        "\n",
        "Дополнительные вопросы (+ 1 балл):\n",
        "- Какие из признаков в этом датасете лучше кодировать через ordinal encoding?\n",
        "- Какие из признаков допустимо кодировать через one-hot?\n",
        "\n",
        "Прим.: суммарно за эту секцию можно получить до 4 баллов."
      ]
    },
    {
      "cell_type": "code",
      "execution_count": 458,
      "metadata": {},
      "outputs": [],
      "source": [
        "from sklearn.preprocessing import OrdinalEncoder"
      ]
    },
    {
      "attachments": {},
      "cell_type": "markdown",
      "metadata": {},
      "source": [
        "Уберем лишние знаки из значения цены, если цена не указана приравняем её равной медиане цены. Медиану будем считать без значений цены равных NaN"
      ]
    },
    {
      "cell_type": "code",
      "execution_count": 459,
      "metadata": {},
      "outputs": [],
      "source": [
        "def mapprice(v):\n",
        "    if isinstance(v, str) and '£' in v:\n",
        "        v = float(v.split('£')[1])\n",
        "        return v"
      ]
    },
    {
      "attachments": {},
      "cell_type": "markdown",
      "metadata": {},
      "source": [
        "7094 значение поломанное из-за цены в виде 2,439.92. Легче выкинуть"
      ]
    },
    {
      "cell_type": "code",
      "execution_count": 460,
      "metadata": {},
      "outputs": [],
      "source": [
        "df_for_price = df\n",
        "df_for_price = df_for_price.drop(7094)\n",
        "df_for_price = df_for_price.dropna(subset=['price'])\n",
        "df_for_price['price'] = df_for_price[~df_for_price['price'].str.contains('-')]['price']\n",
        "\n",
        "df = df.drop(7094)\n",
        "price_median = df_for_price['price'].apply(mapprice).median()\n",
        "df['price'] = df['price'].fillna(price_median).astype(str)\n",
        "df['price'] = df[~df['price'].str.contains('-')]['price'].apply(mapprice).apply(lambda x: float(x))\n",
        "df = df.dropna(subset=\"price\")"
      ]
    },
    {
      "attachments": {},
      "cell_type": "markdown",
      "metadata": {},
      "source": [
        "Закодируем с помощью OrdinalEncoding столбцы manufacturer и amazon_category_and_sub_category"
      ]
    },
    {
      "cell_type": "code",
      "execution_count": 461,
      "metadata": {},
      "outputs": [],
      "source": [
        "df = df.dropna(subset = 'manufacturer', axis = 0) \n",
        "df = df.dropna(subset = 'amazon_category_and_sub_category', axis = 0) "
      ]
    },
    {
      "cell_type": "code",
      "execution_count": 462,
      "metadata": {},
      "outputs": [],
      "source": [
        "encoder = OrdinalEncoder()\n",
        "df['manufacturer'] = encoder.fit_transform(df[['manufacturer']])\n",
        "df['amazon_category_and_sub_category'] = encoder.fit_transform(df[['amazon_category_and_sub_category']])"
      ]
    },
    {
      "attachments": {},
      "cell_type": "markdown",
      "metadata": {},
      "source": [
        "Обработаем столбцы number_of_answered_questions, number_of_reviews и average_review_rating"
      ]
    },
    {
      "cell_type": "code",
      "execution_count": 463,
      "metadata": {},
      "outputs": [],
      "source": [
        "def get_rating_num(s):\n",
        "    if isinstance(s, str):\n",
        "        return float(s.split()[0])\n",
        "    return s"
      ]
    },
    {
      "cell_type": "code",
      "execution_count": 464,
      "metadata": {},
      "outputs": [],
      "source": [
        "def get_reviews_num(v):\n",
        "    if isinstance(v, str):\n",
        "        v = v.replace(',', '.')\n",
        "        v = float(v)\n",
        "        return v"
      ]
    },
    {
      "cell_type": "code",
      "execution_count": null,
      "metadata": {},
      "outputs": [],
      "source": []
    },
    {
      "attachments": {},
      "cell_type": "markdown",
      "metadata": {},
      "source": [
        "так как медиана рейтинга будет равна 5 мы используем среднее значение, а не медиану для неё"
      ]
    },
    {
      "cell_type": "code",
      "execution_count": 465,
      "metadata": {},
      "outputs": [
        {
          "name": "stdout",
          "output_type": "stream",
          "text": [
            "4.709194538394088\n"
          ]
        }
      ],
      "source": [
        "median_number_of_answered_questions = df['number_of_answered_questions'].median()\n",
        "median_number_of_reviews = df['number_of_reviews'].apply(get_reviews_num).median()\n",
        "mean_average_review_rating = df.dropna(subset='average_review_rating')['average_review_rating'].apply(get_rating_num).mean()\n",
        "df['number_of_answered_questions'] = df['number_of_answered_questions'].fillna(median_number_of_answered_questions)\n",
        "print(mean_average_review_rating)\n",
        "df['average_review_rating'] = df['average_review_rating'].fillna(mean_average_review_rating)\n",
        "df['average_review_rating'] = df['average_review_rating'].apply(get_rating_num)"
      ]
    },
    {
      "cell_type": "code",
      "execution_count": 466,
      "metadata": {},
      "outputs": [],
      "source": [
        "df['number_of_reviews'] = df['number_of_reviews'].fillna(median_number_of_reviews)\n",
        "df['number_of_reviews'] =  df['number_of_reviews'].apply(get_reviews_num)\n",
        "df['number_of_reviews'] = df['number_of_reviews'].fillna(median_number_of_reviews)"
      ]
    },
    {
      "cell_type": "code",
      "execution_count": 467,
      "metadata": {},
      "outputs": [
        {
          "data": {
            "text/plain": [
              "(7993, 6)"
            ]
          },
          "execution_count": 467,
          "metadata": {},
          "output_type": "execute_result"
        }
      ],
      "source": [
        "df.shape"
      ]
    },
    {
      "cell_type": "code",
      "execution_count": 468,
      "metadata": {},
      "outputs": [
        {
          "data": {
            "text/plain": [
              "manufacturer                        0\n",
              "price                               0\n",
              "number_of_reviews                   0\n",
              "number_of_answered_questions        0\n",
              "average_review_rating               0\n",
              "amazon_category_and_sub_category    0\n",
              "dtype: int64"
            ]
          },
          "execution_count": 468,
          "metadata": {},
          "output_type": "execute_result"
        }
      ],
      "source": [
        "df.isnull().sum()"
      ]
    },
    {
      "cell_type": "code",
      "execution_count": 469,
      "metadata": {},
      "outputs": [
        {
          "data": {
            "text/plain": [
              "manufacturer                        float64\n",
              "price                               float64\n",
              "number_of_reviews                   float64\n",
              "number_of_answered_questions        float64\n",
              "average_review_rating               float64\n",
              "amazon_category_and_sub_category    float64\n",
              "dtype: object"
            ]
          },
          "execution_count": 469,
          "metadata": {},
          "output_type": "execute_result"
        }
      ],
      "source": [
        "df.dtypes"
      ]
    },
    {
      "cell_type": "markdown",
      "metadata": {
        "id": "JTRoUwANEcn9"
      },
      "source": [
        "# Обучение модели (3 балла)"
      ]
    },
    {
      "cell_type": "markdown",
      "metadata": {
        "id": "AyVaKKT7FFo5"
      },
      "source": [
        "## Бейзлайн\n",
        "\n",
        "Обучите базовую модель. Для этого используйте `sklearn.dummy.DummyRegressor`. Какое качество она показывает на тесте? Посчитайте MSE, RMSE."
      ]
    },
    {
      "cell_type": "code",
      "execution_count": 470,
      "metadata": {},
      "outputs": [],
      "source": [
        "from sklearn.dummy import DummyRegressor\n",
        "from sklearn.model_selection import train_test_split\n",
        "from sklearn.metrics import mean_squared_error"
      ]
    },
    {
      "cell_type": "code",
      "execution_count": 471,
      "metadata": {},
      "outputs": [],
      "source": [
        "X = df.drop([\"price\"],axis=1)\n",
        "y = df[\"price\"]"
      ]
    },
    {
      "cell_type": "code",
      "execution_count": 472,
      "metadata": {},
      "outputs": [],
      "source": [
        "X_train, X_test, y_train, y_test = train_test_split(X, y, test_size = 0.33)"
      ]
    },
    {
      "cell_type": "code",
      "execution_count": 473,
      "metadata": {},
      "outputs": [
        {
          "data": {
            "text/plain": [
              "array([19.67142484, 19.67142484, 19.67142484, ..., 19.67142484,\n",
              "       19.67142484, 19.67142484])"
            ]
          },
          "execution_count": 473,
          "metadata": {},
          "output_type": "execute_result"
        }
      ],
      "source": [
        "d_regr = DummyRegressor()\n",
        "d_regr.fit(X_train, y_train)\n",
        "d_regr_pred = d_regr.predict(X_test)\n",
        "d_regr_pred"
      ]
    },
    {
      "cell_type": "code",
      "execution_count": 474,
      "metadata": {},
      "outputs": [
        {
          "data": {
            "text/plain": [
              "-0.0001696570328513225"
            ]
          },
          "execution_count": 474,
          "metadata": {},
          "output_type": "execute_result"
        }
      ],
      "source": [
        "d_regr.score(X_test, y_test)"
      ]
    },
    {
      "cell_type": "code",
      "execution_count": 475,
      "metadata": {},
      "outputs": [
        {
          "data": {
            "text/plain": [
              "(1602.4082871005483, 40.030092269448346)"
            ]
          },
          "execution_count": 475,
          "metadata": {},
          "output_type": "execute_result"
        }
      ],
      "source": [
        "MSE = mean_squared_error(y_test, d_regr_pred)\n",
        "RMSE = np.sqrt(MSE)\n",
        "MSE, RMSE"
      ]
    },
    {
      "cell_type": "markdown",
      "metadata": {
        "id": "rVW-MtPgF_vE"
      },
      "source": [
        "## Дерево решений\n",
        "\n",
        "Обучите регрессионное дерево решений, проверьте качество этой модели на тестовой выборке. Улучшилось ли качество по сравнению с базовой моделью? Оцените r2_score обученной модели."
      ]
    },
    {
      "cell_type": "code",
      "execution_count": 476,
      "metadata": {},
      "outputs": [],
      "source": [
        "from sklearn.tree import DecisionTreeRegressor\n",
        "from sklearn.metrics import r2_score"
      ]
    },
    {
      "cell_type": "code",
      "execution_count": 477,
      "metadata": {},
      "outputs": [],
      "source": [
        "dtr = DecisionTreeRegressor()\n",
        "dtr.fit(X_train, y_train)\n",
        "dtr_pred = dtr.predict(X_test)"
      ]
    },
    {
      "cell_type": "code",
      "execution_count": 478,
      "metadata": {},
      "outputs": [],
      "source": [
        "r2 = r2_score(y_test, dtr_pred)"
      ]
    },
    {
      "attachments": {},
      "cell_type": "markdown",
      "metadata": {},
      "source": [
        "Ниже можно увидеть, что результат ухудшился"
      ]
    },
    {
      "cell_type": "code",
      "execution_count": 479,
      "metadata": {},
      "outputs": [
        {
          "data": {
            "text/plain": [
              "(2139.23177044281, 46.25182991453214, -0.33523692019155726)"
            ]
          },
          "execution_count": 479,
          "metadata": {},
          "output_type": "execute_result"
        }
      ],
      "source": [
        "MSE = mean_squared_error(y_test, dtr_pred)\n",
        "RMSE = np.sqrt(MSE)\n",
        "MSE, RMSE, r2"
      ]
    },
    {
      "cell_type": "markdown",
      "metadata": {
        "id": "viVY_kUMG7Jv"
      },
      "source": [
        "## Линейная регрессия\n",
        "\n",
        "Попробуйте обучить линейную регрессию с параметрами по умолчанию. Оцените r2_score на тестовой выборке. Сравните качество с деревом решений. "
      ]
    },
    {
      "cell_type": "code",
      "execution_count": 480,
      "metadata": {},
      "outputs": [],
      "source": [
        "from sklearn.linear_model import LinearRegression"
      ]
    },
    {
      "cell_type": "code",
      "execution_count": 481,
      "metadata": {},
      "outputs": [
        {
          "data": {
            "text/plain": [
              "0.0038687629004738877"
            ]
          },
          "execution_count": 481,
          "metadata": {},
          "output_type": "execute_result"
        }
      ],
      "source": [
        "linRegr = LinearRegression()\n",
        "linRegr.fit(X_train,y_train)\n",
        "linRegr.score(X_train,y_train)"
      ]
    },
    {
      "cell_type": "code",
      "execution_count": 482,
      "metadata": {},
      "outputs": [
        {
          "data": {
            "text/plain": [
              "0.0030542874952468324"
            ]
          },
          "execution_count": 482,
          "metadata": {},
          "output_type": "execute_result"
        }
      ],
      "source": [
        "linRegr_pred = linRegr.predict(X_test)\n",
        "r2_score(y_test, linRegr_pred)"
      ]
    },
    {
      "attachments": {},
      "cell_type": "markdown",
      "metadata": {},
      "source": [
        "r2_score стал значительно ниже результата в дереве решений"
      ]
    },
    {
      "cell_type": "markdown",
      "metadata": {
        "id": "3J71riX2Guj3"
      },
      "source": [
        "# Гиперпараметры (2 балла)\n",
        "\n",
        "Переберите несколько гиперпараметров (не более двух-трёх). Обратите внимание, как эти параметры влияют на ошибку модели на тестовой выборке. Постройте для глубины дерева график переобучения (fitting curve) аналогичный тому, что мы строили на занятии. Найдите глубину дерева, начиная с которой модель начинает переобучаться."
      ]
    },
    {
      "cell_type": "code",
      "execution_count": 483,
      "metadata": {},
      "outputs": [],
      "source": [
        "def plot_fitting_curve(parameter: str, values: list, score, X_train, X_test, y_train, y_test):\n",
        "    train_curve = []\n",
        "    test_curve = []\n",
        "    for value in values:\n",
        "        # инициализация объекта из словаря\n",
        "        # распаковка словаря через ** эквивалентна перечислению аргументов\n",
        "        model = DecisionTreeRegressor(**{parameter: value})\n",
        "        model.fit(X_train, y_train)\n",
        "        y_pred_train, y_pred_test = model.predict(X_train), model.predict(X_test)\n",
        "        train_curve.append(score(y_train, y_pred_train))\n",
        "        test_curve.append(score(y_test, y_pred_test))\n",
        "    sns.lineplot(x=values, y=train_curve, color = 'red')\n",
        "    sns.lineplot(x=values, y=test_curve)"
      ]
    },
    {
      "cell_type": "code",
      "execution_count": 484,
      "metadata": {},
      "outputs": [
        {
          "data": {
            "image/png": "[encoded data removed]",
            "text/plain": [
              "<Figure size 640x480 with 1 Axes>"
            ]
          },
          "metadata": {},
          "output_type": "display_data"
        }
      ],
      "source": [
        "plot_fitting_curve('max_depth', np.arange(1, 20), r2_score, X_train, X_test, y_train, y_test)"
      ]
    },
    {
      "cell_type": "markdown",
      "metadata": {
        "id": "rJlf6gJ9RBhf"
      },
      "source": [
        "# Простое ансамблирование (1 балл)\n",
        "\n",
        "В этой секции мы реализуем простой ансамбль деревьев."
      ]
    },
    {
      "cell_type": "code",
      "execution_count": 523,
      "metadata": {
        "id": "Ht7wq9TqUfvZ"
      },
      "outputs": [],
      "source": [
        "class EnsembleTreeRegressor:\n",
        "    def __init__(self, num_trees=5, samples_frac=0.8, **model_kwargs):\n",
        "        self.num_trees= num_trees\n",
        "        self._samples_frac = 0.8\n",
        "        self._trees = [DecisionTreeRegressor(**model_kwargs) for _ in range(num_trees)]\n",
        "    def fit(self, x, y: pd.Series):\n",
        "        x = pd.DataFrame(x)\n",
        "        y = y.reset_index(drop=True)\n",
        "        for tree in self._trees:\n",
        "            tree_x = x.sample(frac=self._samples_frac, random_state=42)\n",
        "            tree_y = y[tree_x.index]\n",
        "            tree.fit(tree_x, tree_y)\n",
        "        return self\n",
        "\n",
        "    def predict(self, x: pd.DataFrame):\n",
        "        x = pd.DataFrame(x)\n",
        "        res = []\n",
        "        for i in range(self.num_trees):\n",
        "          res.append(self._trees[i].predict(x))\n",
        "        return sum(res) / len(res)"
      ]
    },
    {
      "cell_type": "markdown",
      "metadata": {
        "id": "FCxogZPuVZCF"
      },
      "source": [
        "Проверьте, работает ли этот ансамбль лучше обычного дерева с параметрами по умолчанию?\n",
        "\n",
        "Дополнительно переберите максимальную глубину дерева. Проверьте, насколько отличается момент начала переобучения у одиночного дерева и у ансамбля. Зависит ли этот момент от числа деревьев (`num_trees`)? От числа примеров для каждого дерева (`samples_frac`)? Постройте график fitting curve."
      ]
    }
  ],
  "metadata": {
    "colab": {
      "provenance": []
    },
    "gpuClass": "standard",
    "kernelspec": {
      "display_name": "base",
      "language": "python",
      "name": "python3"
    },
    "language_info": {
      "codemirror_mode": {
        "name": "ipython",
        "version": 3
      },
      "file_extension": ".py",
      "mimetype": "text/x-python",
      "name": "python",
      "nbconvert_exporter": "python",
      "pygments_lexer": "ipython3",
      "version": "3.11.2"
    },
    "vscode": {
      "interpreter": {
        "hash": "e4cce46d6be9934fbd27f9ca0432556941ea5bdf741d4f4d64c6cd7f8dfa8fba"
      }
    }
  },
  "nbformat": 4,
  "nbformat_minor": 0
}
